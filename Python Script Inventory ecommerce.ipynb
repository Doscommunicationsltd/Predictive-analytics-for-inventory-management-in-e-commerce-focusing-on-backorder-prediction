{
 "cells": [
  {
   "cell_type": "markdown",
   "id": "2bc0c755",
   "metadata": {},
   "source": [
    "### Predictive analytics for inventory management in e commerce- big data approach"
   ]
  },
  {
   "cell_type": "markdown",
   "id": "9fbb8bb8",
   "metadata": {},
   "source": [
    "##### Load the Dataset"
   ]
  },
  {
   "cell_type": "code",
   "execution_count": null,
   "id": "6e36b3f6",
   "metadata": {},
   "outputs": [],
   "source": [
    "import pandas as pd\n",
    "\n",
    "# Load the dataset\n",
    "file_path = \"online_retail_II.csv\"\n",
    "data = pd.read_csv(file_path)\n",
    "\n",
    "# Display the first few rows\n",
    "data.head(10)\n"
   ]
  },
  {
   "cell_type": "markdown",
   "id": "b831fc5b",
   "metadata": {},
   "source": [
    "##### Data Cleaning"
   ]
  },
  {
   "cell_type": "code",
   "execution_count": null,
   "id": "5bb16651",
   "metadata": {},
   "outputs": [],
   "source": [
    "# Check for missing values\n",
    "print(data.isnull().sum())\n"
   ]
  },
  {
   "cell_type": "code",
   "execution_count": null,
   "id": "d9af2a9b",
   "metadata": {},
   "outputs": [],
   "source": [
    "\n",
    "# Drop rows with missing Customer ID (as they might not be useful)\n",
    "data = data.dropna(subset=['Customer ID'])\n"
   ]
  },
  {
   "cell_type": "code",
   "execution_count": null,
   "id": "ba822ad6",
   "metadata": {},
   "outputs": [],
   "source": [
    "# Remove duplicates\n",
    "data = data.drop_duplicates()\n"
   ]
  },
  {
   "cell_type": "code",
   "execution_count": null,
   "id": "269bf9cb",
   "metadata": {},
   "outputs": [],
   "source": [
    "# Convert InvoiceDate to datetime\n",
    "data['InvoiceDate'] = pd.to_datetime(data['InvoiceDate'])\n"
   ]
  },
  {
   "cell_type": "code",
   "execution_count": null,
   "id": "f1508b7c",
   "metadata": {},
   "outputs": [],
   "source": [
    "# Remove any rows with negative or zero Quantity or Price\n",
    "data = data[(data['Quantity'] > 0) & (data['Price'] > 0)]\n",
    "\n",
    "data.info()"
   ]
  },
  {
   "cell_type": "markdown",
   "id": "d318542c",
   "metadata": {},
   "source": [
    "##### Exploratory Data Analysis (EDA)"
   ]
  },
  {
   "cell_type": "code",
   "execution_count": null,
   "id": "6871dec7",
   "metadata": {},
   "outputs": [],
   "source": [
    "import matplotlib.pyplot as plt\n",
    "import seaborn as sns\n",
    "\n",
    "# Basic statistics\n",
    "data.describe()\n"
   ]
  },
  {
   "cell_type": "code",
   "execution_count": null,
   "id": "8c32d7ee",
   "metadata": {},
   "outputs": [],
   "source": [
    "# Distribution of Quantity and Price\n",
    "plt.figure(figsize=(12, 6))\n",
    "sns.histplot(data['Quantity'], bins=50, kde=True)\n",
    "plt.title('Quantity Distribution')\n",
    "plt.show()"
   ]
  },
  {
   "cell_type": "code",
   "execution_count": null,
   "id": "7d33977d",
   "metadata": {},
   "outputs": [],
   "source": [
    "plt.figure(figsize=(12, 6))\n",
    "sns.histplot(data['Price'], bins=50, kde=True)\n",
    "plt.title('Price Distribution')\n",
    "plt.show()"
   ]
  },
  {
   "cell_type": "code",
   "execution_count": null,
   "id": "37e54d05",
   "metadata": {},
   "outputs": [],
   "source": [
    "# Sales by Country\n",
    "sales_by_country = data.groupby('Country')['Quantity'].sum().sort_values(ascending=False)\n",
    "plt.figure(figsize=(12, 8))\n",
    "sales_by_country.plot(kind='bar')\n",
    "plt.title('Total Quantity Sold by Country')\n",
    "plt.show()"
   ]
  },
  {
   "cell_type": "code",
   "execution_count": null,
   "id": "7040a600",
   "metadata": {},
   "outputs": [],
   "source": [
    "# Sales by Country\n",
    "sales_by_country = data.groupby('Country')['Price'].sum().sort_values(ascending=False)\n",
    "plt.figure(figsize=(12, 8))\n",
    "sales_by_country.plot(kind='bar')\n",
    "plt.title('Total Price by Country')\n",
    "plt.show()"
   ]
  },
  {
   "cell_type": "markdown",
   "id": "7a289893",
   "metadata": {},
   "source": [
    "#### Feature Engineering"
   ]
  },
  {
   "cell_type": "code",
   "execution_count": null,
   "id": "742a1d3a",
   "metadata": {},
   "outputs": [],
   "source": [
    "# Create a new feature for Total Amount\n",
    "data['TotalAmount'] = data['Quantity'] * data['Price']\n",
    "\n",
    "# Extracting additional date features\n",
    "data['InvoiceYear'] = data['InvoiceDate'].dt.year\n",
    "data['InvoiceMonth'] = data['InvoiceDate'].dt.month\n",
    "data['InvoiceDay'] = data['InvoiceDate'].dt.day\n",
    "data['InvoiceHour'] = data['InvoiceDate'].dt.hour\n",
    "\n",
    "data.head()\n"
   ]
  },
  {
   "cell_type": "markdown",
   "id": "99990aed",
   "metadata": {},
   "source": [
    "##### Split the Data"
   ]
  },
  {
   "cell_type": "code",
   "execution_count": null,
   "id": "6bf6c78b",
   "metadata": {},
   "outputs": [],
   "source": [
    "from sklearn.model_selection import train_test_split\n",
    "\n",
    "# Define the feature matrix X and target vector y\n",
    "X = data[['Quantity', 'Price', 'InvoiceYear', 'InvoiceMonth', 'InvoiceDay', 'InvoiceHour']]\n",
    "y = data['TotalAmount']\n",
    "\n",
    "# Split the data\n",
    "X_train, X_test, y_train, y_test = train_test_split(X, y, test_size=0.2, random_state=42)\n",
    "\n",
    "X_train.shape, X_test.shape\n"
   ]
  },
  {
   "cell_type": "markdown",
   "id": "f4bcd01b",
   "metadata": {},
   "source": [
    "##### Model Building"
   ]
  },
  {
   "cell_type": "code",
   "execution_count": null,
   "id": "f2f43c84",
   "metadata": {},
   "outputs": [],
   "source": [
    "from sklearn.linear_model import LinearRegression\n",
    "from sklearn.metrics import mean_squared_error, r2_score\n",
    "\n",
    "# Initialize the model\n",
    "model = LinearRegression()\n",
    "\n",
    "# Train the model\n",
    "model.fit(X_train, y_train)\n",
    "\n",
    "# Make predictions\n",
    "y_pred = model.predict(X_test)\n",
    "\n",
    "# Evaluate the model\n",
    "mse = mean_squared_error(y_test, y_pred)\n",
    "r2 = r2_score(y_test, y_pred)\n",
    "\n",
    "print(f'Mean Squared Error: {mse}')\n",
    "print(f'R-squared: {r2}')\n"
   ]
  },
  {
   "cell_type": "markdown",
   "id": "27a9c658",
   "metadata": {},
   "source": [
    "##### Model Building (Multiple Models)"
   ]
  },
  {
   "cell_type": "code",
   "execution_count": null,
   "id": "1f3793bd",
   "metadata": {},
   "outputs": [],
   "source": [
    "from sklearn.linear_model import LinearRegression\n",
    "from sklearn.tree import DecisionTreeRegressor\n",
    "from sklearn.ensemble import RandomForestRegressor, GradientBoostingRegressor\n",
    "from sklearn.metrics import mean_squared_error, r2_score\n",
    "from sklearn.model_selection import cross_val_score\n",
    "\n",
    "# Initialize models\n",
    "models = {\n",
    "    'Linear Regression': LinearRegression(),\n",
    "    'Decision Tree': DecisionTreeRegressor(random_state=42),\n",
    "    'Random Forest': RandomForestRegressor(random_state=42, n_estimators=100),\n",
    "    'Gradient Boosting': GradientBoostingRegressor(random_state=42, n_estimators=100)\n",
    "}\n"
   ]
  },
  {
   "cell_type": "markdown",
   "id": "c10075c3",
   "metadata": {},
   "source": [
    "##### Train and Evaluate Models"
   ]
  },
  {
   "cell_type": "code",
   "execution_count": null,
   "id": "7ead3519",
   "metadata": {},
   "outputs": [],
   "source": [
    "results = {}\n",
    "\n",
    "for model_name, model in models.items():\n",
    "    # Train the model\n",
    "    model.fit(X_train, y_train)\n",
    "    \n",
    "    # Make predictions\n",
    "    y_pred = model.predict(X_test)\n",
    "    \n",
    "    # Evaluate the model\n",
    "    mse = mean_squared_error(y_test, y_pred)\n",
    "    r2 = r2_score(y_test, y_pred)\n",
    "    \n",
    "    # Store the results\n",
    "    results[model_name] = {'MSE': mse, 'R2': r2}\n",
    "\n",
    "    print(f'{model_name}:')\n",
    "    print(f'  Mean Squared Error: {mse}')\n",
    "    print(f'  R-squared: {r2}')\n",
    "    print('-' * 40)\n"
   ]
  },
  {
   "cell_type": "markdown",
   "id": "05c0542c",
   "metadata": {},
   "source": [
    "###### Cross-Validation for Model Selection"
   ]
  },
  {
   "cell_type": "code",
   "execution_count": null,
   "id": "b320926d",
   "metadata": {},
   "outputs": [],
   "source": [
    "cv_results = {}\n",
    "\n",
    "for model_name, model in models.items():\n",
    "    cv_scores = cross_val_score(model, X, y, cv=5, scoring='neg_mean_squared_error')\n",
    "    cv_results[model_name] = cv_scores.mean()\n",
    "    print(f'{model_name} CV Mean Squared Error: {-cv_scores.mean()}')\n"
   ]
  },
  {
   "cell_type": "markdown",
   "id": "e9c9d7aa",
   "metadata": {},
   "source": [
    "### Basic Structure of the Tkinter App"
   ]
  },
  {
   "cell_type": "code",
   "execution_count": null,
   "id": "7f8752b3",
   "metadata": {},
   "outputs": [],
   "source": [
    "import tkinter as tk\n",
    "from tkinter import ttk\n",
    "import pandas as pd\n",
    "import numpy as np\n",
    "from sklearn.linear_model import LinearRegression\n",
    "from sklearn.model_selection import train_test_split\n",
    "\n",
    "# Load Data\n",
    "def load_data():\n",
    "    # Sample data\n",
    "    data = pd.DataFrame({\n",
    "        'Quantity': [10, 20, 30, 40, 50],\n",
    "        'Price': [5, 15, 25, 35, 45],\n",
    "        'TotalAmount': [50, 300, 750, 1400, 2250]\n",
    "    })\n",
    "    return data\n",
    "\n",
    "# Train Model\n",
    "def train_model(data):\n",
    "    X = data[['Quantity', 'Price']]\n",
    "    y = data['TotalAmount']\n",
    "    model = LinearRegression()\n",
    "    model.fit(X, y)\n",
    "    return model\n",
    "\n",
    "# Predict Function\n",
    "def predict():\n",
    "    quantity = int(quantity_var.get())\n",
    "    price = float(price_var.get())\n",
    "    \n",
    "    prediction = model.predict([[quantity, price]])\n",
    "    result_label.config(text=f\"Predicted Total Amount: ${prediction[0]:.2f}\")\n",
    "\n",
    "# Initialize Tkinter Window\n",
    "root = tk.Tk()\n",
    "root.title(\"Predictive Model App\")\n",
    "\n",
    "# Load data and train model\n",
    "data = load_data()\n",
    "model = train_model(data)\n",
    "\n",
    "# Create Input Fields\n",
    "ttk.Label(root, text=\"Quantity\").grid(row=0, column=0)\n",
    "quantity_var = tk.StringVar()\n",
    "quantity_entry = ttk.Entry(root, textvariable=quantity_var).grid(row=0, column=1)\n",
    "\n",
    "ttk.Label(root, text=\"Price\").grid(row=1, column=0)\n",
    "price_var = tk.StringVar()\n",
    "price_entry = ttk.Entry(root, textvariable=price_var).grid(row=1, column=1)\n",
    "\n",
    "# Predict Button\n",
    "predict_button = ttk.Button(root, text=\"Predict\", command=predict)\n",
    "predict_button.grid(row=2, column=0, columnspan=2)\n",
    "\n",
    "# Result Label\n",
    "result_label = ttk.Label(root, text=\"Predicted Total Amount: \")\n",
    "result_label.grid(row=3, column=0, columnspan=2)\n",
    "\n",
    "# Run the Tkinter Event Loop\n",
    "root.mainloop()\n"
   ]
  }
 ],
 "metadata": {
  "kernelspec": {
   "display_name": "Python 3 (ipykernel)",
   "language": "python",
   "name": "python3"
  },
  "language_info": {
   "codemirror_mode": {
    "name": "ipython",
    "version": 3
   },
   "file_extension": ".py",
   "mimetype": "text/x-python",
   "name": "python",
   "nbconvert_exporter": "python",
   "pygments_lexer": "ipython3",
   "version": "3.9.7"
  }
 },
 "nbformat": 4,
 "nbformat_minor": 5
}
